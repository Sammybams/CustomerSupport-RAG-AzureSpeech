{
 "cells": [
  {
   "cell_type": "code",
   "execution_count": 1,
   "metadata": {},
   "outputs": [
    {
     "data": {
      "text/plain": [
       "True"
      ]
     },
     "execution_count": 1,
     "metadata": {},
     "output_type": "execute_result"
    }
   ],
   "source": [
    "import os\n",
    "\n",
    "# Add OpenAI library\n",
    "import openai\n",
    "\n",
    "# Get Configuration Settings\n",
    "from dotenv import load_dotenv\n",
    "load_dotenv()"
   ]
  },
  {
   "cell_type": "code",
   "execution_count": 2,
   "metadata": {},
   "outputs": [
    {
     "data": {
      "text/plain": [
       "'0.28.1'"
      ]
     },
     "execution_count": 2,
     "metadata": {},
     "output_type": "execute_result"
    }
   ],
   "source": [
    "openai.__version__"
   ]
  },
  {
   "cell_type": "code",
   "execution_count": 3,
   "metadata": {},
   "outputs": [],
   "source": [
    "# Configure OpenAI API using Azure OpenAI\n",
    "openai.api_key = os.getenv(\"API_KEY\")\n",
    "openai.api_base = os.getenv(\"ENDPOINT\")\n",
    "openai.api_type = \"azure\"  # Necessary for using the OpenAI library with Azure OpenAI\n",
    "openai.api_version = \"2024-02-01\"  # Latest / target version of the API"
   ]
  },
  {
   "cell_type": "code",
   "execution_count": 4,
   "metadata": {},
   "outputs": [],
   "source": [
    "from langchain.embeddings import OpenAIEmbeddings"
   ]
  },
  {
   "cell_type": "code",
   "execution_count": 5,
   "metadata": {},
   "outputs": [],
   "source": [
    "# OpenAI Settings\n",
    "model_deployment = \"text-embedding-ada-002\"\n",
    "# SDK calls this \"engine\", but naming it \"deployment_name\" for clarity\n",
    "\n",
    "model_name = \"text-embedding-ada-002\""
   ]
  },
  {
   "cell_type": "code",
   "execution_count": 6,
   "metadata": {},
   "outputs": [
    {
     "name": "stderr",
     "output_type": "stream",
     "text": [
      "/var/folders/l7/m3wgz92x6vj1gkr9lwh0893c0000gn/T/ipykernel_857/3172091303.py:1: LangChainDeprecationWarning: The class `OpenAIEmbeddings` was deprecated in LangChain 0.0.9 and will be removed in 0.3.0. An updated version of the class exists in the langchain-openai package and should be used instead. To use it run `pip install -U langchain-openai` and import as `from langchain_openai import OpenAIEmbeddings`.\n",
      "  openai_embeddings: OpenAIEmbeddings = OpenAIEmbeddings(\n"
     ]
    }
   ],
   "source": [
    "openai_embeddings: OpenAIEmbeddings = OpenAIEmbeddings(\n",
    "    openai_api_version = os.getenv(\"OPENAI_API_VERSION\"), openai_api_key = os.getenv(\"API_KEY\"),\n",
    "    openai_api_base = os.getenv(\"ENDPOINT\"), openai_api_type = \"azure\"\n",
    ")"
   ]
  },
  {
   "cell_type": "code",
   "execution_count": 7,
   "metadata": {},
   "outputs": [],
   "source": [
    "from langchain_chroma import Chroma\n",
    "\n",
    "vector_store_contoso = Chroma(\n",
    "    collection_name=\"Contoso-Outdoor-Docs\",\n",
    "    embedding_function=openai_embeddings,\n",
    "    persist_directory=\"../Contoso-Outdoor-Vector-DB\",  # Where to save data locally, remove if not neccesary\n",
    ")"
   ]
  },
  {
   "cell_type": "markdown",
   "metadata": {},
   "source": [
    "## Index markdown files"
   ]
  },
  {
   "cell_type": "code",
   "execution_count": 22,
   "metadata": {},
   "outputs": [],
   "source": [
    "from langchain.text_splitter import RecursiveCharacterTextSplitter\n",
    "from langchain_community.document_loaders import UnstructuredMarkdownLoader\n",
    "from langchain_core.documents import Document\n",
    "\n",
    "def load_and_process_markdowns(pdf_folder_path):\n",
    "        \"\"\"\n",
    "        This method is responsible for upserting PDF content.\n",
    "        It loads the PDF file, splits the content into chunks, and then upserts the chunks into VecDB.\n",
    "        \"\"\"\n",
    "        documents = []\n",
    "        for file in os.listdir(pdf_folder_path):\n",
    "            if file.endswith(\".md\"):\n",
    "                pdf_path = os.path.join(pdf_folder_path, file)\n",
    "                loader = UnstructuredMarkdownLoader(pdf_path)\n",
    "                documents.extend(loader.load())\n",
    "        \n",
    "        text_splitter = RecursiveCharacterTextSplitter(chunk_size=500, chunk_overlap=150, separators=[\"\\n\", \" \", \"?\", \".\", \"!\"])\n",
    "        docs = text_splitter.split_documents(documents)\n",
    "        return docs"
   ]
  },
  {
   "cell_type": "code",
   "execution_count": 23,
   "metadata": {},
   "outputs": [],
   "source": [
    "markdown_folder_path =  \"../data/manual_info\"\n",
    "splits = load_and_process_markdowns(markdown_folder_path)"
   ]
  },
  {
   "cell_type": "code",
   "execution_count": 27,
   "metadata": {},
   "outputs": [
    {
     "name": "stdout",
     "output_type": "stream",
     "text": [
      "643\n"
     ]
    },
    {
     "data": {
      "text/plain": [
       "Document(metadata={'source': '../data/manual_info/product_info_2.md'}, page_content='Information about product item_number: 2\\n\\nAdventurer Pro Backpack, price $90,\\n\\nBrand\\n\\nHikeMate\\n\\nCategory\\n\\nBackpacks\\n\\nFeatures\\n\\n40L capacity for ample storage space\\n\\nErgonomic design for comfortable carrying\\n\\nDurable nylon material for long-lasting performance\\n\\nMultiple compartments and pockets for organized storage\\n\\nHydration system compatibility with a dedicated hydration bladder sleeve and tube port\\n\\nAdjustable and padded shoulder straps for a customized fit and enhanced comfort')"
      ]
     },
     "execution_count": 27,
     "metadata": {},
     "output_type": "execute_result"
    }
   ],
   "source": [
    "print(len(splits))\n",
    "splits[0]"
   ]
  },
  {
   "cell_type": "code",
   "execution_count": 29,
   "metadata": {},
   "outputs": [
    {
     "name": "stdout",
     "output_type": "stream",
     "text": [
      "Upserting 0 documents\n",
      "Upserting 50 documents\n",
      "Upserting 100 documents\n",
      "Upserting 150 documents\n",
      "Upserting 200 documents\n",
      "Upserting 250 documents\n",
      "Upserting 300 documents\n",
      "Upserting 350 documents\n",
      "Upserting 400 documents\n",
      "Upserting 450 documents\n",
      "Upserting 500 documents\n",
      "Upserting 550 documents\n",
      "Upserting 600 documents\n"
     ]
    }
   ],
   "source": [
    "import time\n",
    "from uuid import uuid4\n",
    "\n",
    "batch_size = 50  # Adjust this batch size based on your rate limit\n",
    "delay = 60  # Delay in seconds between batches\n",
    "\n",
    "for i in range(0, len(splits), batch_size):\n",
    "    batch = splits[i:i+batch_size]\n",
    "    uuids = [str(uuid4()) for _ in range(len(batch))]\n",
    "    print(f\"Upserting {i} documents\")\n",
    "    # try:\n",
    "    response = vector_store_contoso.add_documents(documents=batch, ids=uuids)\n",
    "    #     print(f\"Response: {response}\")\n",
    "    # except Exception as e:\n",
    "    #     print(e)\n",
    "    time.sleep(delay)  # Delay to prevent hitting rate limits\n"
   ]
  },
  {
   "cell_type": "markdown",
   "metadata": {},
   "source": [
    "## Propmting"
   ]
  },
  {
   "cell_type": "code",
   "execution_count": 30,
   "metadata": {},
   "outputs": [],
   "source": [
    "from langchain_community.document_loaders.csv_loader import CSVLoader\n",
    "\n",
    "loader = CSVLoader(file_path=\"../data/product_info/products.csv\")\n",
    "data = loader.load()"
   ]
  },
  {
   "cell_type": "code",
   "execution_count": 31,
   "metadata": {},
   "outputs": [
    {
     "data": {
      "text/plain": [
       "Document(metadata={'source': '../data/product_info/products.csv', 'row': 0}, page_content='id: 1\\nname: TrailMaster X4 Tent\\nprice: 250.0\\ncategory: Tents\\nbrand: OutdoorLiving\\ndescription: Unveiling the TrailMaster X4 Tent from OutdoorLiving, your home away from home for your next camping adventure. Crafted from durable polyester, this tent boasts a spacious interior perfect for four occupants. It ensures your dryness under drizzly skies thanks to its water-resistant construction, and the accompanying rainfly adds an extra layer of weather protection. It offers refreshing airflow and bug defence, courtesy of its mesh panels. Accessibility is not an issue with its multiple doors and interior pockets that keep small items tidy. Reflective guy lines grant better visibility at night, and the freestanding design simplifies setup and relocation. With the included carry bag, transporting this convenient abode becomes a breeze. Be it an overnight getaway or a week-long nature escapade, the TrailMaster X4 Tent provides comfort, convenience, and concord with the great outdoors. Comes with a two-year limited warranty to ensure customer satisfaction.')"
      ]
     },
     "execution_count": 31,
     "metadata": {},
     "output_type": "execute_result"
    }
   ],
   "source": [
    "data[0]"
   ]
  },
  {
   "cell_type": "code",
   "execution_count": 32,
   "metadata": {},
   "outputs": [
    {
     "data": {
      "text/html": [
       "<div>\n",
       "<style scoped>\n",
       "    .dataframe tbody tr th:only-of-type {\n",
       "        vertical-align: middle;\n",
       "    }\n",
       "\n",
       "    .dataframe tbody tr th {\n",
       "        vertical-align: top;\n",
       "    }\n",
       "\n",
       "    .dataframe thead th {\n",
       "        text-align: right;\n",
       "    }\n",
       "</style>\n",
       "<table border=\"1\" class=\"dataframe\">\n",
       "  <thead>\n",
       "    <tr style=\"text-align: right;\">\n",
       "      <th></th>\n",
       "      <th>id</th>\n",
       "      <th>name</th>\n",
       "      <th>price</th>\n",
       "      <th>category</th>\n",
       "      <th>brand</th>\n",
       "      <th>description</th>\n",
       "    </tr>\n",
       "  </thead>\n",
       "  <tbody>\n",
       "    <tr>\n",
       "      <th>0</th>\n",
       "      <td>1</td>\n",
       "      <td>TrailMaster X4 Tent</td>\n",
       "      <td>250.0</td>\n",
       "      <td>Tents</td>\n",
       "      <td>OutdoorLiving</td>\n",
       "      <td>Unveiling the TrailMaster X4 Tent from Outdoor...</td>\n",
       "    </tr>\n",
       "    <tr>\n",
       "      <th>1</th>\n",
       "      <td>2</td>\n",
       "      <td>Adventurer Pro Backpack</td>\n",
       "      <td>90.0</td>\n",
       "      <td>Backpacks</td>\n",
       "      <td>HikeMate</td>\n",
       "      <td>Venture into the wilderness with the HikeMate'...</td>\n",
       "    </tr>\n",
       "    <tr>\n",
       "      <th>2</th>\n",
       "      <td>3</td>\n",
       "      <td>Summit Breeze Jacket</td>\n",
       "      <td>120.0</td>\n",
       "      <td>Hiking Clothing</td>\n",
       "      <td>MountainStyle</td>\n",
       "      <td>Discover the joy of hiking with MountainStyle'...</td>\n",
       "    </tr>\n",
       "    <tr>\n",
       "      <th>3</th>\n",
       "      <td>4</td>\n",
       "      <td>TrekReady Hiking Boots</td>\n",
       "      <td>140.0</td>\n",
       "      <td>Hiking Footwear</td>\n",
       "      <td>TrekReady</td>\n",
       "      <td>Introducing the TrekReady Hiking Boots - stepp...</td>\n",
       "    </tr>\n",
       "    <tr>\n",
       "      <th>4</th>\n",
       "      <td>5</td>\n",
       "      <td>BaseCamp Folding Table</td>\n",
       "      <td>60.0</td>\n",
       "      <td>Camping Tables</td>\n",
       "      <td>CampBuddy</td>\n",
       "      <td>CampBuddy's BaseCamp Folding Table is an adven...</td>\n",
       "    </tr>\n",
       "  </tbody>\n",
       "</table>\n",
       "</div>"
      ],
      "text/plain": [
       "   id                     name  price         category          brand  \\\n",
       "0   1      TrailMaster X4 Tent  250.0            Tents  OutdoorLiving   \n",
       "1   2  Adventurer Pro Backpack   90.0        Backpacks       HikeMate   \n",
       "2   3     Summit Breeze Jacket  120.0  Hiking Clothing  MountainStyle   \n",
       "3   4   TrekReady Hiking Boots  140.0  Hiking Footwear      TrekReady   \n",
       "4   5   BaseCamp Folding Table   60.0   Camping Tables      CampBuddy   \n",
       "\n",
       "                                         description  \n",
       "0  Unveiling the TrailMaster X4 Tent from Outdoor...  \n",
       "1  Venture into the wilderness with the HikeMate'...  \n",
       "2  Discover the joy of hiking with MountainStyle'...  \n",
       "3  Introducing the TrekReady Hiking Boots - stepp...  \n",
       "4  CampBuddy's BaseCamp Folding Table is an adven...  "
      ]
     },
     "execution_count": 32,
     "metadata": {},
     "output_type": "execute_result"
    }
   ],
   "source": [
    "import pandas as pd\n",
    "product = pd.read_csv(\"../data/product_info/products.csv\")\n",
    "product.head()"
   ]
  },
  {
   "cell_type": "code",
   "execution_count": 33,
   "metadata": {},
   "outputs": [
    {
     "data": {
      "text/plain": [
       "(20, 6)"
      ]
     },
     "execution_count": 33,
     "metadata": {},
     "output_type": "execute_result"
    }
   ],
   "source": [
    "product.shape"
   ]
  },
  {
   "cell_type": "code",
   "execution_count": 34,
   "metadata": {},
   "outputs": [
    {
     "data": {
      "text/plain": [
       "['47f8d2f4-8a98-416a-a7a2-e0619d6e97ff',\n",
       " 'f440e15b-3c4a-4e04-9936-f7b3779a7ec2',\n",
       " 'dd685673-69b0-4156-93f5-85eab6cb953f',\n",
       " 'ace79c00-612b-40df-8a8e-a608e33e198d',\n",
       " '446e654c-b973-4960-8a2e-1865350c04f5',\n",
       " '27b30f2d-4410-4941-ba28-10c10cd7c87d',\n",
       " '1264ab85-d751-4828-a185-ded9b58ca3f2',\n",
       " '76585a1c-7590-4007-9800-8176c827bc1c',\n",
       " '493ca00e-d39a-4c4a-9f4f-648c918b8731',\n",
       " '82ddb6ff-3dec-4220-8425-22d9284bc17f',\n",
       " '32317c6d-4343-47b6-8e2b-cd9d42eb5740',\n",
       " 'f8de7177-2dba-46e5-8ac7-7b708d536cc8',\n",
       " 'f058f14b-4966-4ba5-9dd9-516a08e552c7',\n",
       " '9fa52921-8633-4bec-b5d9-93cfee37475e',\n",
       " '2126305c-e4fe-44bf-bef6-350e1d8c6dcd',\n",
       " 'a97a993a-e832-4175-8991-482f9068182a',\n",
       " '6c568e42-f336-44a0-a08a-66cc56029615',\n",
       " 'f5eb11a8-920b-45a6-ac8b-0f548e1282da',\n",
       " '298704ad-effe-4d8a-b6a8-30bd9a8d5400',\n",
       " '90d9d88f-9b4d-47ce-99fc-c116427fb03b']"
      ]
     },
     "execution_count": 34,
     "metadata": {},
     "output_type": "execute_result"
    }
   ],
   "source": [
    "uuids = [str(uuid4()) for _ in range(len(data))]\n",
    "vector_store_contoso.add_documents(documents=data, ids=uuids)"
   ]
  },
  {
   "cell_type": "markdown",
   "metadata": {},
   "source": [
    "## Azure OpenAI"
   ]
  },
  {
   "cell_type": "code",
   "execution_count": 1,
   "metadata": {},
   "outputs": [],
   "source": [
    "import os\n",
    "import openai\n",
    "\n",
    "openai.api_key = os.getenv(\"API_KEY\")\n",
    "openai.api_base = os.getenv(\"ENDPOINT\")\n",
    "openai.api_type = \"azure\"  # Necessary for using the OpenAI library with Azure OpenAI\n",
    "openai.api_version = os.getenv(\"OPENAI_API_VERSION\")  # Latest / target version of the API"
   ]
  },
  {
   "cell_type": "code",
   "execution_count": 2,
   "metadata": {},
   "outputs": [
    {
     "name": "stdout",
     "output_type": "stream",
     "text": [
      "{\n",
      "  \"choices\": [\n",
      "    {\n",
      "      \"finish_reason\": \"stop\",\n",
      "      \"index\": 0,\n",
      "      \"message\": {\n",
      "        \"content\": \"There is no such thing as GPT 3.5. The latest version of GPT (Generative Pre-trained Transformer) is GPT-3, which was created by OpenAI.\",\n",
      "        \"role\": \"assistant\"\n",
      "      }\n",
      "    }\n",
      "  ],\n",
      "  \"created\": 1728407424,\n",
      "  \"id\": \"chatcmpl-AG812jKLYHgDN2nAS4UT4OLDaKmla\",\n",
      "  \"model\": \"gpt-35-turbo\",\n",
      "  \"object\": \"chat.completion\",\n",
      "  \"system_fingerprint\": null,\n",
      "  \"usage\": {\n",
      "    \"completion_tokens\": 39,\n",
      "    \"prompt_tokens\": 28,\n",
      "    \"total_tokens\": 67\n",
      "  }\n",
      "}\n"
     ]
    }
   ],
   "source": [
    "response = openai.ChatCompletion.create(\n",
    "    engine=\"Voicetask\", # The deployment name you chose when you deployed the GPT-3.5-Turbo or GPT-4 model.\n",
    "    messages=[\n",
    "        {\"role\": \"system\", \"content\": \"You are a helpful assistant.\"},\n",
    "        {\"role\": \"user\", \"content\": \"Who created GPT 3.5?\"}\n",
    "    ],\n",
    "    temperature = 0.5\n",
    ")\n",
    "\n",
    "print(response)\n",
    "\n",
    "# To print only the response content text:\n",
    "# print(response['choices'][0]['message']['content'])"
   ]
  },
  {
   "cell_type": "code",
   "execution_count": 20,
   "metadata": {},
   "outputs": [
    {
     "name": "stdout",
     "output_type": "stream",
     "text": [
      "I'm sorry, but I am unable to provide real-time pricing information for products as it fluctuates frequently. It would be best to check the official website of TrailMaster or online stores selling the product to get accurate and up-to-date pricing information.\n"
     ]
    }
   ],
   "source": [
    "print(response['choices'][0]['message']['content'])"
   ]
  },
  {
   "cell_type": "code",
   "execution_count": null,
   "metadata": {},
   "outputs": [],
   "source": [
    "response = openai.ChatCompletion.create(\n",
    "    engine=\"Voicetask\", # The deployment name you chose when you deployed the GPT-3.5-Turbo or GPT-4 model.\n",
    "    messages=[\n",
    "        {\"role\": \"system\", \"content\": \"You are a helpful assistant.\"},\n",
    "        {\"role\": \"user\", \"content\": \"What is the prize of TrailMaster X4 Tent?\"}\n",
    "    ],\n",
    "    temperature = 0.5\n",
    ")\n",
    "\n",
    "print(response)\n",
    "\n",
    "# To print only the response content text:\n",
    "# print(response['choices'][0]['message']['content'])"
   ]
  },
  {
   "cell_type": "code",
   "execution_count": null,
   "metadata": {},
   "outputs": [],
   "source": []
  }
 ],
 "metadata": {
  "kernelspec": {
   "display_name": "CustomerSupport-RAG-AzureSpeech",
   "language": "python",
   "name": "python3"
  },
  "language_info": {
   "codemirror_mode": {
    "name": "ipython",
    "version": 3
   },
   "file_extension": ".py",
   "mimetype": "text/x-python",
   "name": "python",
   "nbconvert_exporter": "python",
   "pygments_lexer": "ipython3",
   "version": "3.11.5"
  }
 },
 "nbformat": 4,
 "nbformat_minor": 2
}
